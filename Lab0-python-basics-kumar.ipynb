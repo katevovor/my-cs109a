{
 "cells": [
  {
   "cell_type": "markdown",
   "metadata": {},
   "source": [
    "# Session 1: Introduction to Python (Basics)"
   ]
  },
  {
   "cell_type": "markdown",
   "metadata": {},
   "source": [
    "(A tutorial prepared by K. Indireshkumar of SEAS Computing)"
   ]
  },
  {
   "cell_type": "markdown",
   "metadata": {},
   "source": [
    "## What is Python?\n",
    "\n",
    "A general purpose programming language conceived first in late 1980s by Guido van Rossum. \n",
    "\n",
    "Why python:\n",
    "\n",
    "*   Easy to learn\n",
    "\n",
    "*   Free software\n",
    "\n",
    "*   Active and large development community\n",
    "\n",
    "*   Large number of modules in every conceivable field\n",
    "\n",
    "*   Fast development cycle\n",
    "\n",
    "*   Program in any style: procedural, object oriented, functional\n",
    "\n",
    "*   Dynamic typing; No pointers\n",
    "\n",
    "### Ipython Notebook: \n",
    "\n",
    "This presentation is an ipython notebook. It interweaves the presentation (markdown cell) with python code (code cell) and code output. Code can be executed in situ. Presentation can include mathematical symbols via Latex!\n",
    "\n",
    "\n",
    "### Suggestions for this tutorial:\n",
    "\n",
    "If you want to modify any code and run it, open a new code cell, copy the existing code into that cell and modify that. Another option would be to make a copy of this notebook and work with the copy."
   ]
  },
  {
   "cell_type": "markdown",
   "metadata": {},
   "source": [
    "## Some essential python \"family\" of tools\n",
    "\n",
    "* Numpy -- greatly expands numerics; optimized routines for performance\n",
    "* Matplotlib --- plotting\n",
    "* Pandas --- high performance data structures (for data intensive computing)\n",
    "* Sympy --- symbolic mathematics and computer algebra\n",
    "* Ipython -- Excellent interactive interface (Ipython Notebook is part of this)\n",
    "* Nose --- A testing framework for python\n",
    "* Scipy -- A vast array of scientific computing tools going beyond numpy. Includes all of the above!\n",
    "* SciKits -- Add-on packages to Scipy (some still under development) covering differenct application areas. \n",
    "* IDEs: IDLE, Spyder, Eclipse, Pycharm\n"
   ]
  },
  {
   "cell_type": "markdown",
   "metadata": {},
   "source": [
    "## Some Preliminaries:\n",
    "* Python is an interpreted language\n",
    "* Every line is interpreted as code unless it is a designated comment\n",
    "* Comments are preceeded by #\n",
    "* Indentation matters\n",
    "* Lists, arrays, etc. start with index 0 (Matlab starts at 1)\n",
    "* Python is significantly different from the \"c family\" of languages (c, c++, and java)\n"
   ]
  },
  {
   "cell_type": "markdown",
   "metadata": {},
   "source": [
    "## Python Language fundamentals:\n",
    "\n",
    "* Variables and types -- start with a letter and can contain a-z, A-Z, 0-9.\n",
    "* Variables are not statically typed. \n",
    "* operators - +, -, '**', /, %, '***'\n",
    "* logical operators or, and, not\n",
    "* fundamental types: int, float, bool, complex (j used)\n",
    "* Strings: Eg: 'This is a string' or \"This is a string\""
   ]
  },
  {
   "cell_type": "code",
   "execution_count": null,
   "metadata": {},
   "outputs": [],
   "source": [
    "print('Hello World!')"
   ]
  },
  {
   "cell_type": "code",
   "execution_count": null,
   "metadata": {},
   "outputs": [],
   "source": [
    "#Python as calculator\n",
    "3650*23"
   ]
  },
  {
   "cell_type": "markdown",
   "metadata": {},
   "source": [
    "Note: We copied and pasted here. Also, used the cell tab to clear current output and all outputs."
   ]
  },
  {
   "cell_type": "markdown",
   "metadata": {},
   "source": [
    "### Strings ###\n",
    "\n",
    "One of python's main strengths is dealing with strings."
   ]
  },
  {
   "cell_type": "code",
   "execution_count": 3,
   "metadata": {},
   "outputs": [
    {
     "data": {
      "text/plain": [
       "['Hell', ' World']"
      ]
     },
     "execution_count": 3,
     "metadata": {},
     "output_type": "execute_result"
    }
   ],
   "source": [
    "x=\"Hello World\" # or 'Hello World'\n",
    "#help(\"string\") # help on string objects\n",
    "#dir(x) # help on string objects\n",
    "#x.swapcase() \n",
    "#x.find('ld')\n",
    "#x.replace(\"ello\",\"ELLO\")\n",
    "#x.split(\"o\")\n",
    "x.split(\"o\",1)"
   ]
  },
  {
   "cell_type": "code",
   "execution_count": 4,
   "metadata": {},
   "outputs": [
    {
     "name": "stdout",
     "output_type": "stream",
     "text": [
      "11 13\n"
     ]
    }
   ],
   "source": [
    "x=\"Hello World\"\n",
    "#len(x)\n",
    "y=\"Hello   World\"\n",
    "print(len(x),len(y))"
   ]
  },
  {
   "cell_type": "code",
   "execution_count": 5,
   "metadata": {},
   "outputs": [
    {
     "data": {
      "text/plain": [
       "'Hello World, I hope you are having a good time'"
      ]
     },
     "execution_count": 5,
     "metadata": {},
     "output_type": "execute_result"
    }
   ],
   "source": [
    "y=x+\", I hope you are having a good time\"\n",
    "y"
   ]
  },
  {
   "cell_type": "code",
   "execution_count": 6,
   "metadata": {},
   "outputs": [
    {
     "data": {
      "text/plain": [
       "False"
      ]
     },
     "execution_count": 6,
     "metadata": {},
     "output_type": "execute_result"
    }
   ],
   "source": [
    "\"z\" in x # Boolean (is z in x?)"
   ]
  },
  {
   "cell_type": "code",
   "execution_count": 7,
   "metadata": {},
   "outputs": [
    {
     "data": {
      "text/plain": [
       "True"
      ]
     },
     "execution_count": 7,
     "metadata": {},
     "output_type": "execute_result"
    }
   ],
   "source": [
    "\"H\" in x # Boolean (is H in x?)"
   ]
  },
  {
   "cell_type": "code",
   "execution_count": 8,
   "metadata": {},
   "outputs": [
    {
     "data": {
      "text/plain": [
       "False"
      ]
     },
     "execution_count": 8,
     "metadata": {},
     "output_type": "execute_result"
    }
   ],
   "source": [
    "\"h\" in x # Boolean (is H in x?)"
   ]
  },
  {
   "cell_type": "markdown",
   "metadata": {},
   "source": [
    "## Collections:"
   ]
  },
  {
   "cell_type": "markdown",
   "metadata": {},
   "source": [
    "### List -- ordered collection of objects; can be changed; enclosed between [ ]"
   ]
  },
  {
   "cell_type": "code",
   "execution_count": 9,
   "metadata": {},
   "outputs": [
    {
     "name": "stdout",
     "output_type": "stream",
     "text": [
      "[1, 0, 0] [0, 5, 0] [7, 0, 0]\n"
     ]
    }
   ],
   "source": [
    "#help(list)  # Documentation\n",
    "#list.__dict__ # Documentation\n",
    "ll=[]\n",
    "ll.append(1) #creating the list by adding each element individually\n",
    "ll.append(0)\n",
    "ll.append(0)\n",
    "#direct list creation\n",
    "lm=[0,5,0]\n",
    "ln=[7,0,0]\n",
    "#print(ll)\n",
    "print(ll,lm,ln)"
   ]
  },
  {
   "cell_type": "code",
   "execution_count": 10,
   "metadata": {},
   "outputs": [
    {
     "name": "stdout",
     "output_type": "stream",
     "text": [
      "([1, 0, 0], [0, 5, 0], [7, 0, 0]) [1, 0, 0, 0, 5, 0, 7, 0, 0]\n"
     ]
    }
   ],
   "source": [
    "#collection of multiple lists\n",
    "pp=ll,lm,ln\n",
    "pq=ll+lm+ln\n",
    "print(pp,pq)\n"
   ]
  },
  {
   "cell_type": "code",
   "execution_count": 11,
   "metadata": {},
   "outputs": [
    {
     "data": {
      "text/plain": [
       "tuple"
      ]
     },
     "execution_count": 11,
     "metadata": {},
     "output_type": "execute_result"
    }
   ],
   "source": [
    "# figuring out the type of object a variable is\n",
    "type(pp)"
   ]
  },
  {
   "cell_type": "code",
   "execution_count": 12,
   "metadata": {},
   "outputs": [
    {
     "name": "stdout",
     "output_type": "stream",
     "text": [
      "[1, 1, 0, 0]\n"
     ]
    }
   ],
   "source": [
    "ll[:0]=[1]  # Could also do ll[0]=1\n",
    "#print(ll)\n",
    "#del ll[0]\n",
    "#print(ll)\n",
    "#ll[-1]\n",
    "#what methods in list?\n",
    "#list.__dict__\n",
    "#dir([ll])\n",
    "#help(list) #Lots of details\n",
    "#help(dir)\n",
    "#len(ll)\n",
    "#ll.sort()\n",
    "print(ll)"
   ]
  },
  {
   "cell_type": "code",
   "execution_count": 13,
   "metadata": {},
   "outputs": [
    {
     "name": "stdout",
     "output_type": "stream",
     "text": [
      "[0, 0, 1, 1]\n"
     ]
    }
   ],
   "source": [
    "ll.sort()\n",
    "print(ll)"
   ]
  },
  {
   "cell_type": "code",
   "execution_count": null,
   "metadata": {},
   "outputs": [],
   "source": [
    "#information about the \n",
    "#Ref: https://docs.python.org/3/reference/datamodel.html\n",
    "list.__dict__"
   ]
  },
  {
   "cell_type": "markdown",
   "metadata": {},
   "source": [
    "### More on lists"
   ]
  },
  {
   "cell_type": "code",
   "execution_count": 15,
   "metadata": {},
   "outputs": [
    {
     "name": "stdout",
     "output_type": "stream",
     "text": [
      "['John', 'Jill', 'Braginskii', 'Krauthenhammer', 'Gabriella'] ['John', 'Jill']\n"
     ]
    }
   ],
   "source": [
    "#List can be created in two ways\n",
    "# First way: \n",
    "names1=[\"John\",\"Jill\",\"Braginskii\",\"Krauthenhammer\",\"Gabriella\"]\n",
    "#Second way: Create an empty list and populate\n",
    "names2=[] # Empty list\n",
    "names2.append(\"John\")\n",
    "names2.append(\"Jill\")\n",
    "print(names1,names2)"
   ]
  },
  {
   "cell_type": "code",
   "execution_count": 16,
   "metadata": {},
   "outputs": [
    {
     "data": {
      "text/plain": [
       "(5, 4)"
      ]
     },
     "execution_count": 16,
     "metadata": {},
     "output_type": "execute_result"
    }
   ],
   "source": [
    "len(names1),len(names1[0])"
   ]
  },
  {
   "cell_type": "code",
   "execution_count": 17,
   "metadata": {},
   "outputs": [
    {
     "data": {
      "text/plain": [
       "2"
      ]
     },
     "execution_count": 17,
     "metadata": {},
     "output_type": "execute_result"
    }
   ],
   "source": [
    "names1.index(\"Braginskii\")"
   ]
  },
  {
   "cell_type": "code",
   "execution_count": 18,
   "metadata": {},
   "outputs": [
    {
     "name": "stdout",
     "output_type": "stream",
     "text": [
      "['Luke', 'Jill', 'Braginskii', 'Krauthenhammer', 'Gabriella']\n"
     ]
    }
   ],
   "source": [
    "names1[0]=\"Luke\"\n",
    "print(names1)"
   ]
  },
  {
   "cell_type": "code",
   "execution_count": 19,
   "metadata": {},
   "outputs": [
    {
     "name": "stdout",
     "output_type": "stream",
     "text": [
      "['John', 'Luke', 'Jill', 'Braginskii', 'Krauthenhammer', 'Gabriella']\n"
     ]
    }
   ],
   "source": [
    "names1.insert(0,'John')\n",
    "print(names1)"
   ]
  },
  {
   "cell_type": "code",
   "execution_count": 20,
   "metadata": {},
   "outputs": [
    {
     "name": "stdout",
     "output_type": "stream",
     "text": [
      "['Luke', 'John', 'Jill', 'Braginskii', 'Krauthenhammer', 'Gabriella']\n"
     ]
    }
   ],
   "source": [
    "names1[0],names1[1]=names1[1],names1[0]\n",
    "print(names1)"
   ]
  },
  {
   "cell_type": "code",
   "execution_count": 21,
   "metadata": {},
   "outputs": [
    {
     "data": {
      "text/plain": [
       "(False, True)"
      ]
     },
     "execution_count": 21,
     "metadata": {},
     "output_type": "execute_result"
    }
   ],
   "source": [
    "'Donald' in names1, 'Jill' in names1"
   ]
  },
  {
   "cell_type": "code",
   "execution_count": 22,
   "metadata": {},
   "outputs": [
    {
     "data": {
      "text/plain": [
       "['Jill', 'Braginskii', 'Krauthenhammer', 'Gabriella']"
      ]
     },
     "execution_count": 22,
     "metadata": {},
     "output_type": "execute_result"
    }
   ],
   "source": [
    "names1[2:]"
   ]
  },
  {
   "cell_type": "markdown",
   "metadata": {},
   "source": [
    "## Control of Flow (quick intro): ##"
   ]
  },
  {
   "cell_type": "markdown",
   "metadata": {},
   "source": [
    "### The \"if\" statement ###"
   ]
  },
  {
   "cell_type": "code",
   "execution_count": 25,
   "metadata": {},
   "outputs": [
    {
     "name": "stdout",
     "output_type": "stream",
     "text": [
      "3\n"
     ]
    }
   ],
   "source": [
    "#Simple if statement\n",
    "#Note the indentation and colon\n",
    "name_of_interest=\"Braginskii\"\n",
    "if name_of_interest in names1:              \n",
    "    print(names1.index(name_of_interest))"
   ]
  },
  {
   "cell_type": "code",
   "execution_count": 26,
   "metadata": {},
   "outputs": [
    {
     "name": "stdout",
     "output_type": "stream",
     "text": [
      "This name has the consonant B\n"
     ]
    }
   ],
   "source": [
    "#Nested if statements; Note the indentations\n",
    "name_of_interest=\"Braginskii\"\n",
    "if name_of_interest in names1:\n",
    "     if \"b\" or \"B\" in name_of_interest:\n",
    "            print(\"This name has the consonant B\")"
   ]
  },
  {
   "cell_type": "code",
   "execution_count": 27,
   "metadata": {},
   "outputs": [
    {
     "name": "stdout",
     "output_type": "stream",
     "text": [
      "This name is not in the list\n"
     ]
    }
   ],
   "source": [
    "#Nested if statements (including else)\n",
    "name_of_interest=\"Bieber\"\n",
    "#name_of_interest=\"Braginskii\"\n",
    "if name_of_interest in names1:\n",
    "     if \"b\" in name_of_interest.lower():\n",
    "            print(\"This name has the consonant B\")\n",
    "     else:\n",
    "            print(\"This name does not have the consonant B\")\n",
    "else:\n",
    "     print(\"This name is not in the list\")"
   ]
  },
  {
   "cell_type": "markdown",
   "metadata": {},
   "source": [
    "### The \"for\" statement ###"
   ]
  },
  {
   "cell_type": "code",
   "execution_count": 28,
   "metadata": {},
   "outputs": [
    {
     "name": "stdout",
     "output_type": "stream",
     "text": [
      "John\n",
      "Jill\n",
      "Braginskii\n",
      "Krauthenhammer\n",
      "Gabriella\n"
     ]
    }
   ],
   "source": [
    "names1=[\"John\",\"Jill\",\"Braginskii\",\"Krauthenhammer\",\"Gabriella\"]\n",
    "# Again note indentation and colon\n",
    "for name in names1:\n",
    "    print(name)"
   ]
  },
  {
   "cell_type": "code",
   "execution_count": 29,
   "metadata": {},
   "outputs": [
    {
     "name": "stdout",
     "output_type": "stream",
     "text": [
      "5 , 5\n"
     ]
    }
   ],
   "source": [
    "# Count the number of items in a list; Recall the len() function does this\n",
    "names1=[\"John\",\"Jill\",\"Braginskii\",\"Krauthenhammer\",\"Gabriella\"]\n",
    "count=0\n",
    "for name in names1:\n",
    "    count+=1 # means count=count+1\n",
    "print(count,\",\",len(names1))"
   ]
  },
  {
   "cell_type": "code",
   "execution_count": 30,
   "metadata": {},
   "outputs": [
    {
     "name": "stdout",
     "output_type": "stream",
     "text": [
      "[1, 1, 4, 5, 4]\n"
     ]
    }
   ],
   "source": [
    "# A \"complex example\": Count the number of vowels in each name in a list\n",
    "names1=[\"John\",\"Jill\",\"Braginskii\",\"Krauthenhammer\",\"Gabriella\"]\n",
    "# For each name in the list, count the number of vowels and form a list\n",
    "vowels=[\"a\",\"e\",\"i\",\"o\",\"u\"]\n",
    "vowel_count=[]\n",
    "for name in names1:\n",
    "    i=0  # this is our counter that counts that number of vowels in each name\n",
    "    for letter in name:\n",
    "        if letter.lower() in vowels:\n",
    "            i+=1\n",
    "    vowel_count.append(i)\n",
    "print(vowel_count)"
   ]
  },
  {
   "cell_type": "code",
   "execution_count": null,
   "metadata": {},
   "outputs": [],
   "source": [
    "consonant_count=[]\n",
    "for name in names1:\n",
    "    i=0\n",
    "    for letter in name:\n",
    "        if letter.lower() not in vowels:\n",
    "            i+=1\n",
    "    consonant_count.append(i)\n",
    "print(consonant_count)"
   ]
  },
  {
   "cell_type": "markdown",
   "metadata": {},
   "source": [
    "## Functions (quick intro): ##\n",
    "\n",
    "In the above example, what if we want it to work on any list of names?"
   ]
  },
  {
   "cell_type": "code",
   "execution_count": 32,
   "metadata": {},
   "outputs": [],
   "source": [
    "def count_vowels(names1):\n",
    "    vowels=[\"a\",\"e\",\"i\",\"o\",\"u\"]\n",
    "    vowel_count=[]\n",
    "    for name in names1:\n",
    "        i=0\n",
    "        for letter in name:\n",
    "          if letter.lower() in vowels:\n",
    "            i+=1\n",
    "        vowel_count.append(i)\n",
    "    return vowel_count"
   ]
  },
  {
   "cell_type": "code",
   "execution_count": 33,
   "metadata": {},
   "outputs": [
    {
     "data": {
      "text/plain": [
       "[1, 1, 4, 5, 4]"
      ]
     },
     "execution_count": 33,
     "metadata": {},
     "output_type": "execute_result"
    }
   ],
   "source": [
    "count_vowels(names1)"
   ]
  },
  {
   "cell_type": "code",
   "execution_count": null,
   "metadata": {},
   "outputs": [],
   "source": [
    "#Function to convert temperature from Fahrenheit to Celsius\n",
    "def tempFtoC(tempinF=212.0):\n",
    "    tempinC=(tempinF-32.0)*(5.0/9.0)\n",
    "    return tempinC"
   ]
  },
  {
   "cell_type": "code",
   "execution_count": null,
   "metadata": {},
   "outputs": [],
   "source": [
    "tempcelsius=tempFtoC(14)\n",
    "tempcelsius"
   ]
  },
  {
   "cell_type": "markdown",
   "metadata": {},
   "source": [
    "### Lambda Expressions"
   ]
  },
  {
   "cell_type": "code",
   "execution_count": null,
   "metadata": {},
   "outputs": [],
   "source": [
    "ftoc=lambda x:(x-32.0)*(5.0/9.0)\n",
    "ftoc(14)"
   ]
  },
  {
   "cell_type": "markdown",
   "metadata": {},
   "source": [
    "### List Comprehension\n",
    "\n",
    "List creation using for loop"
   ]
  },
  {
   "cell_type": "code",
   "execution_count": null,
   "metadata": {},
   "outputs": [],
   "source": [
    "#Squaring a few numbers\n",
    "x=[8,10,15,9,2]\n",
    "y=[]\n",
    "for i in x:\n",
    "    if i>2 and i<15:\n",
    "        y.append(i**2)        \n",
    "print(y)"
   ]
  },
  {
   "cell_type": "code",
   "execution_count": null,
   "metadata": {},
   "outputs": [],
   "source": [
    "#Squaring again, via list comprehension (if not careful, code can become hard to read)\n",
    "x=[8,10,15,9,2]\n",
    "y=[i**2 for i in x if i>2 and i<15]\n",
    "print(y)"
   ]
  },
  {
   "cell_type": "markdown",
   "metadata": {},
   "source": [
    "## Modules ##\n",
    "\n",
    "Much of the functionality provided via modules. Let's check what modules are loaded. To do this, we will start by importing the 'sys' module."
   ]
  },
  {
   "cell_type": "code",
   "execution_count": 34,
   "metadata": {},
   "outputs": [],
   "source": [
    "import sys # one way of importing a module\n",
    "#What modules are available?\n",
    "modulenames = set(sys.modules)&set(globals())"
   ]
  },
  {
   "cell_type": "code",
   "execution_count": 35,
   "metadata": {},
   "outputs": [
    {
     "data": {
      "text/plain": [
       "{'sys'}"
      ]
     },
     "execution_count": 35,
     "metadata": {},
     "output_type": "execute_result"
    }
   ],
   "source": [
    "modulenames"
   ]
  },
  {
   "cell_type": "markdown",
   "metadata": {},
   "source": [
    "One of the most useful modules is numpy. This allows us to perform sophisticated mathematical operations efficiently."
   ]
  },
  {
   "cell_type": "code",
   "execution_count": 36,
   "metadata": {},
   "outputs": [
    {
     "name": "stderr",
     "output_type": "stream",
     "text": [
      "C:\\Users\\kkv09\\OneDrive\\Documents\\Anaconda3\\lib\\site-packages\\ipykernel_launcher.py:2: RuntimeWarning: invalid value encountered in log10\n",
      "  \n"
     ]
    },
    {
     "data": {
      "text/plain": [
       "nan"
      ]
     },
     "execution_count": 36,
     "metadata": {},
     "output_type": "execute_result"
    }
   ],
   "source": [
    "from numpy import *\n",
    "log10(-1)\n",
    "#?log10"
   ]
  },
  {
   "cell_type": "code",
   "execution_count": null,
   "metadata": {},
   "outputs": [],
   "source": [
    "#If the above does not work, you have to install numpy (also scipy as it needed next)\n",
    "#!pip install numpy scipy"
   ]
  },
  {
   "cell_type": "markdown",
   "metadata": {},
   "source": [
    "The above is convenient. However, there is a disadvantage. If several modules provide variables with same names (either same functionality or different), it is impossible to distinguish between them with the above way of importing. We need a way that keeps variables separate among modules (i.e. limit the scope of variables). The following allows that."
   ]
  },
  {
   "cell_type": "code",
   "execution_count": 37,
   "metadata": {},
   "outputs": [
    {
     "data": {
      "text/plain": [
       "1.3643763538418412j"
      ]
     },
     "execution_count": 37,
     "metadata": {},
     "output_type": "execute_result"
    }
   ],
   "source": [
    "import scipy as spy\n",
    "x=spy.log10(-1)\n",
    "x"
   ]
  },
  {
   "cell_type": "markdown",
   "metadata": {},
   "source": [
    "Why is Scipy result not 'NaN'? Work in the complex plane (see wikipedia article on \"Complex logarithm\"). Also note:"
   ]
  },
  {
   "cell_type": "code",
   "execution_count": null,
   "metadata": {},
   "outputs": [],
   "source": [
    "pi/log(10) # Which pi and log are being used: from numpy or scipy?"
   ]
  },
  {
   "cell_type": "code",
   "execution_count": null,
   "metadata": {},
   "outputs": [],
   "source": [
    "spy. # can use autocomplete here"
   ]
  },
  {
   "cell_type": "markdown",
   "metadata": {},
   "source": [
    "### Tuple -- Just like lists; immutable; enclosed between ( )"
   ]
  },
  {
   "cell_type": "code",
   "execution_count": null,
   "metadata": {},
   "outputs": [],
   "source": [
    "#Tuple of days of a week\n",
    "days=('Mon','Tue','Wed','Thu','Fri','Sat','Sun')\n",
    "#convert to list\n",
    "days_list=list(days)\n",
    "#print(days, days_list)\n",
    "del days_list[0]\n",
    "print(days_list)\n",
    "#del days[0]\n",
    "#days_list.sort()\n",
    "#days_list\n",
    "#print(dir(days))"
   ]
  },
  {
   "cell_type": "markdown",
   "metadata": {},
   "source": [
    "### Dictionary -- container with key, value pairs; enclosed between { }"
   ]
  },
  {
   "cell_type": "code",
   "execution_count": 38,
   "metadata": {},
   "outputs": [
    {
     "data": {
      "text/plain": [
       "dict_values(['A', 'B', 'C'])"
      ]
     },
     "execution_count": 38,
     "metadata": {},
     "output_type": "execute_result"
    }
   ],
   "source": [
    "number2alphabet={}\n",
    "number2alphabet['1']='A'\n",
    "number2alphabet['2']='B'\n",
    "number2alphabet['3']='C'\n",
    "#print(dir(number2alphabet))\n",
    "number2alphabet.values()"
   ]
  },
  {
   "cell_type": "markdown",
   "metadata": {},
   "source": [
    "### Exercises"
   ]
  },
  {
   "cell_type": "markdown",
   "metadata": {},
   "source": [
    "1. Starting with a list [1,3,5], produce a list [1,2,3,4].\n",
    "2. Write a function to count the consonants (all letters except for vowels) in the list: \n",
    "   names=[\"John\",\"Jill\",\"Braginskii\",\"Krauthenhammer\",\"Gabriella\"]"
   ]
  },
  {
   "cell_type": "code",
   "execution_count": null,
   "metadata": {},
   "outputs": [],
   "source": [
    "from IPython.core.display import HTML\n",
    "def css_styling():\n",
    "    styles = open(\"./custom.css\", \"r\").read()\n",
    "    return HTML(styles)\n",
    "css_styling()"
   ]
  },
  {
   "cell_type": "markdown",
   "metadata": {},
   "source": [
    "\n",
    "## Resources:\n",
    "\n",
    "https://www.python.org/\n",
    "\n",
    "https://docs.python.org/3/tutorial/index.html\n",
    "\n",
    "Numerics:\n",
    "\n",
    "http://www.numpy.org/\n",
    "\n",
    "https://jrjohansson.github.io/\n",
    "\n",
    "https://scipy.org/\n",
    "\n",
    "https://docs.scipy.org/doc/numpy-dev/user/numpy-for-matlab-users.html\n",
    "\n",
    "http://www.scipy.org/getting-started.html\n",
    "\n",
    "Data analysis/mining:\n",
    "\n",
    "https://pandas.pydata.org/\n",
    "\n",
    "http://scikit-learn.org/stable/\n",
    "\n",
    "Plotting/Visualization:\n",
    "\n",
    "https://matplotlib.org/\n",
    "\n",
    "Ipython notebook:\n",
    "\n",
    "http://ipython.org/ipython-doc/dev/notebook/\n",
    "\n",
    "http://nbviewer.ipython.org/\n"
   ]
  },
  {
   "cell_type": "code",
   "execution_count": null,
   "metadata": {},
   "outputs": [],
   "source": []
  }
 ],
 "metadata": {
  "kernelspec": {
   "display_name": "Python 3",
   "language": "python",
   "name": "python3"
  },
  "language_info": {
   "codemirror_mode": {
    "name": "ipython",
    "version": 3
   },
   "file_extension": ".py",
   "mimetype": "text/x-python",
   "name": "python",
   "nbconvert_exporter": "python",
   "pygments_lexer": "ipython3",
   "version": "3.7.3"
  }
 },
 "nbformat": 4,
 "nbformat_minor": 2
}
